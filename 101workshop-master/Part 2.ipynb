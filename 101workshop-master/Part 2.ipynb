{
 "cells": [
  {
   "cell_type": "markdown",
   "metadata": {},
   "source": [
    "# Struktur data\n",
    "\n",
    "Struktur data pada python yang umumnya digunakan ada 3 yaitu :\n",
    "\n",
    "    - List\n",
    "    - Tuple\n",
    "    - Dictionaries"
   ]
  },
  {
   "cell_type": "markdown",
   "metadata": {},
   "source": [
    "# 1. List\n",
    "List pada python dapat dikenali dengan tanda kurung siku [ ... ]. data yang berada pada list dapat diakses menggunakan indeks masing-masing data, dimana indeks dimulai pada angka 0 ... n dimana n adalah panjang data list.\n",
    "\n",
    "contoh : \n",
    "data = ['budi', 'badu', 'badi']\n",
    "\n",
    "indeksnya :\n",
    "data[0] # untuk data 'budi'\n",
    "data[1] # untuk data 'badu'\n",
    "data[2] # untuk data 'badi'\n",
    "\n",
    "bentuk umum :\n",
    "\n",
    "- variabel = [nilai1, nilai2, ..., nilai-n]\n",
    "- variabel = [index1, index2, ..., index-n]\n",
    "\n",
    "contoh penerapan list :\n",
    "- jurusan = [] # empty list\n",
    "- jurusan = [\"Informatika\", \"Mesin\", \"Industri\"] # list dengan nilai\n",
    "- himpunan = ['himatif', 'himesin', 'himart']\n",
    "- jurusan = [\"Informatika\", \"Mesin\", 22, himpunan] # list didalam list\n",
    "- nilai = [97, 80, 74, 66, 20]"
   ]
  },
  {
   "cell_type": "code",
   "execution_count": 5,
   "metadata": {},
   "outputs": [
    {
     "name": "stdout",
     "output_type": "stream",
     "text": [
      "['__add__', '__class__', '__contains__', '__delattr__', '__delitem__', '__dir__', '__doc__', '__eq__', '__format__', '__ge__', '__getattribute__', '__getitem__', '__gt__', '__hash__', '__iadd__', '__imul__', '__init__', '__init_subclass__', '__iter__', '__le__', '__len__', '__lt__', '__mul__', '__ne__', '__new__', '__reduce__', '__reduce_ex__', '__repr__', '__reversed__', '__rmul__', '__setattr__', '__setitem__', '__sizeof__', '__str__', '__subclasshook__', 'append', 'clear', 'copy', 'count', 'extend', 'index', 'insert', 'pop', 'remove', 'reverse', 'sort']\n"
     ]
    }
   ],
   "source": [
    "jurusan = [] # empty list\n",
    "# jurusan = [\"Informatika\", \"Mesin\", \"Industri\"]\n",
    "# jurusan = [\"Informatika\", \"Mesin\", \"Industri\", pimpinan]\n",
    "# himpunan = ['himatif', 'himesin', 'himart']\n",
    "# jurusan = [\"Informatika\", \"Mesin\", 33, himpunan]\n",
    "print (dir(jurusan))"
   ]
  },
  {
   "cell_type": "markdown",
   "metadata": {},
   "source": [
    "# latihan list 1:\n",
    "1. buat empty list dan masukkan kedalam variabel dengan nama peserta\n",
    "2. pastikan type variabel yang dibuat adalah list\n",
    "3. tampilkan isi list"
   ]
  },
  {
   "cell_type": "code",
   "execution_count": 9,
   "metadata": {},
   "outputs": [
    {
     "name": "stdout",
     "output_type": "stream",
     "text": [
      "['jojo', 'jeje']\n"
     ]
    }
   ],
   "source": [
    "# - start -\n",
    "\n",
    "# tuliskan kode latihan 1 disini\n",
    "nama_peserta = [\"jojo\",\"jeje\"]\n",
    "\n",
    "print(nama_peserta)\n",
    "# - end -"
   ]
  },
  {
   "cell_type": "markdown",
   "metadata": {},
   "source": [
    "# latihan list 2:\n",
    "1. buat variabel dengan nama sistemoperasi\n",
    "2. masukkan list pada variabel sistemoperasi dengan nilai : \"windows\", \"linux\", \"unix\", \"solaris\"\n",
    "3. tampilkan list yang baru saja dibuat."
   ]
  },
  {
   "cell_type": "code",
   "execution_count": 12,
   "metadata": {},
   "outputs": [
    {
     "name": "stdout",
     "output_type": "stream",
     "text": [
      "['windows', 'linux', 'unix', 'solaris']\n"
     ]
    }
   ],
   "source": [
    "# - start -\n",
    "\n",
    "# tuliskan kode latihan 2 disini\n",
    "sistemoperasi = [\"windows\",\"linux\",\"unix\",\"solaris\"]\n",
    "\n",
    "print(sistemoperasi)\n",
    "# - end -"
   ]
  },
  {
   "cell_type": "markdown",
   "metadata": {},
   "source": [
    "# Manipulasi List - Menampilkan Nilai"
   ]
  },
  {
   "cell_type": "code",
   "execution_count": null,
   "metadata": {},
   "outputs": [],
   "source": [
    "# [0, 1, 2, 3, n+1, ..., n]\n",
    "jurusan = [\"informatika\", \"industri\", \"mesin\", \"arsitek\", \"PWK\"]\n",
    "\n",
    "#jurusan[0] # akan menampilkan informatika\n",
    "#jurusan[1] # akan menampilkan industri"
   ]
  },
  {
   "cell_type": "markdown",
   "metadata": {},
   "source": [
    "# latihan list 3:\n",
    "1. buat variabel dengan nama editor\n",
    "2. masukkan list pada variabel editor dengan nilai : visual studi code, atom, sublime, pycharm\n",
    "3. tampilkan list dengan nomor index 2\n",
    "4. tampilkan list dengan nomor index 5"
   ]
  },
  {
   "cell_type": "code",
   "execution_count": 21,
   "metadata": {},
   "outputs": [
    {
     "name": "stdout",
     "output_type": "stream",
     "text": [
      "sublime\n"
     ]
    }
   ],
   "source": [
    "# - start -\n",
    "\n",
    "# tuliskan kode latihan 3 disini\n",
    "editor = [\"visual studio code\",\"atom\",\"sublime\",\"pycharm\"]\n",
    "\n",
    "print(editor[2])\n",
    "# - end -"
   ]
  },
  {
   "cell_type": "markdown",
   "metadata": {},
   "source": [
    "# Manipulasi List - Menambahkan dan Menghapus Nilai"
   ]
  },
  {
   "cell_type": "code",
   "execution_count": 141,
   "metadata": {},
   "outputs": [
    {
     "data": {
      "text/plain": [
       "['linux', 'solaris', 'unix', 'windows']"
      ]
     },
     "execution_count": 141,
     "metadata": {},
     "output_type": "execute_result"
    }
   ],
   "source": [
    "# menambahkan nilai pada list menggunakan perintah \n",
    "# 1. append(nilai) - menambahkan pada akhir list\n",
    "opsistem = ['linux', 'solaris', 'unix']\n",
    "\n",
    "#opsistem.append('windows')\n",
    "opsistem.append('windows')\n",
    "\n",
    "#opsistem\n",
    "\n",
    "# 2. insert(index, nilai) - menambahkan \n",
    "# pada index tertentu pada list opsistem.insert(1, 'osiris')\n",
    "opsistem.insert(1, 'osiris')\n",
    "#opsistem\n",
    "\n",
    "# 3. del variable_list[index_nilai] - menghapus \n",
    "# nilai pada list berdasarkan indexnya. del opsistem[1]\n",
    "del opsistem[1]\n",
    "#opsistem\n",
    "opsistem"
   ]
  },
  {
   "cell_type": "markdown",
   "metadata": {},
   "source": [
    "# latihan list 4:\n",
    "1. buat variabel list dan nilainya minimal terdapat 5 nilai pada list tersebut.\n",
    "2. tambahkan nilai baru pada akhir list (\"belajar python\")\n",
    "3. tambahkan nilai baru pada awal list (\"menyenangkan\")\n",
    "4. tambahkan nilai baru pada index ke-3 list (\"suka sekali\")\n",
    "5. hapus nilai pada list dengan nomor index ke 2.\n",
    "6. tampilkan hasil perubahan list yang telah dibuat."
   ]
  },
  {
   "cell_type": "code",
   "execution_count": 33,
   "metadata": {},
   "outputs": [
    {
     "name": "stdout",
     "output_type": "stream",
     "text": [
      "['menyenangkan', 'jojo', 'suka sekali', 'jeje', 'juju', 'jaja', 'belajar python']\n"
     ]
    }
   ],
   "source": [
    "# - start -\n",
    "\n",
    "# tuliskan kode latihan 4 disini\n",
    "nama_peserta = [\"jojo\",\"jiji\",\"jeje\",\"juju\",\"jaja\"]\n",
    "nama_peserta.append(\"belajar python\")\n",
    "nama_peserta.insert(0,\"menyenangkan\")\n",
    "nama_peserta.insert(3,\"suka sekali\")\n",
    "del nama_peserta[2]\n",
    "print(nama_peserta)\n",
    "# - end -"
   ]
  },
  {
   "cell_type": "markdown",
   "metadata": {},
   "source": [
    "# Manipulasi List - Mengubah Nilai"
   ]
  },
  {
   "cell_type": "code",
   "execution_count": 34,
   "metadata": {},
   "outputs": [
    {
     "data": {
      "text/plain": [
       "66"
      ]
     },
     "execution_count": 34,
     "metadata": {},
     "output_type": "execute_result"
    }
   ],
   "source": [
    "# variabel_list[index_nilai] = nilai_pengganti\n",
    "# contoh :\n",
    "\n",
    "nilai_mahasiswa = [77,80,90,66,70]\n",
    "\n",
    "# ubah nilai_mahasiswa dengan index ke - 3\n",
    "nilai_mahasiswa[3]\n"
   ]
  },
  {
   "cell_type": "code",
   "execution_count": 35,
   "metadata": {},
   "outputs": [
    {
     "data": {
      "text/plain": [
       "83"
      ]
     },
     "execution_count": 35,
     "metadata": {},
     "output_type": "execute_result"
    }
   ],
   "source": [
    "# berikan nilai baru untuk nilai mahasiswa\n",
    "nilai_mahasiswa[3] = 83\n",
    "nilai_mahasiswa[3]"
   ]
  },
  {
   "cell_type": "markdown",
   "metadata": {},
   "source": [
    "# latihan list 5:\n",
    "1. buat variabel list dan nilainya minimal terdapat 3 nilai pada list tersebut\n",
    "2. ubah nilai dengan nomor index ke 3\n",
    "3. ubah nilai dengan nomor index ke 1\n",
    "4. tampilkan perubahan listnya."
   ]
  },
  {
   "cell_type": "code",
   "execution_count": 43,
   "metadata": {},
   "outputs": [],
   "source": [
    "# - start poin 1 -\n",
    "\n",
    "# tuliskan kode latihan 5 disini\n",
    "# buat variabel list dan nilainya dan tampilkan listnya\n",
    "merek = [\"sumsang\",\"nokiu\",\"xiomay\"]\n",
    "# - end -"
   ]
  },
  {
   "cell_type": "code",
   "execution_count": 42,
   "metadata": {},
   "outputs": [],
   "source": [
    "# - start poin 2 -\n",
    "\n",
    "# tuliskan kode latihan 5 disini\n",
    "# ubah nilai dengan nomor index ke 3 dan tampilkan perubahan listnya\n",
    "merek[2] = \"oppomeneh\"\n",
    "# - end -"
   ]
  },
  {
   "cell_type": "code",
   "execution_count": 40,
   "metadata": {},
   "outputs": [
    {
     "name": "stdout",
     "output_type": "stream",
     "text": [
      "['sumsang', 'vivu', 'oppomeneh']\n"
     ]
    }
   ],
   "source": [
    "# - start poin 3 -\n",
    "\n",
    "# tuliskan kode latihan 5 disini\n",
    "# ubah nilai dengan nomor index k 1 dan tampilkan perubahan listnya\n",
    "merek[1] = \"vivu\"\n",
    "print(merek)\n",
    "# - end -"
   ]
  },
  {
   "cell_type": "markdown",
   "metadata": {},
   "source": [
    "# 2. Tuple\n",
    "\n",
    "Tupel memiliki bentuk umum sebagai berikut:\n",
    "- variabel_tupel = ('nilai1', 1, ..., 'nilai ke-n')\n",
    "- variabel_tupel = 'nilai1', 1, ..., 'nilai ke-n'\n",
    "\n",
    "Tipe data tuple merupakan jenis tipe data yang immutable (tidak dapat diubah, tidak dapat ditambah, tidak dapat dikurangi)."
   ]
  },
  {
   "cell_type": "code",
   "execution_count": 1,
   "metadata": {},
   "outputs": [
    {
     "data": {
      "text/plain": [
       "tuple"
      ]
     },
     "execution_count": 1,
     "metadata": {},
     "output_type": "execute_result"
    }
   ],
   "source": [
    "# contoh penggunaan\n",
    "variabel_tupel = 'badu', 'andi', 'sarah'\n",
    "\n",
    "# tampilkan tipe dari variabel yang baru dibuat diatas\n",
    "variabel_tupel\n",
    "type(variabel_tupel)\n",
    "# ketikkan perintah dan jalankan"
   ]
  },
  {
   "cell_type": "code",
   "execution_count": 46,
   "metadata": {},
   "outputs": [
    {
     "data": {
      "text/plain": [
       "['__add__',\n",
       " '__class__',\n",
       " '__contains__',\n",
       " '__delattr__',\n",
       " '__dir__',\n",
       " '__doc__',\n",
       " '__eq__',\n",
       " '__format__',\n",
       " '__ge__',\n",
       " '__getattribute__',\n",
       " '__getitem__',\n",
       " '__getnewargs__',\n",
       " '__gt__',\n",
       " '__hash__',\n",
       " '__init__',\n",
       " '__init_subclass__',\n",
       " '__iter__',\n",
       " '__le__',\n",
       " '__len__',\n",
       " '__lt__',\n",
       " '__mul__',\n",
       " '__ne__',\n",
       " '__new__',\n",
       " '__reduce__',\n",
       " '__reduce_ex__',\n",
       " '__repr__',\n",
       " '__rmul__',\n",
       " '__setattr__',\n",
       " '__sizeof__',\n",
       " '__str__',\n",
       " '__subclasshook__',\n",
       " 'count',\n",
       " 'index']"
      ]
     },
     "execution_count": 46,
     "metadata": {},
     "output_type": "execute_result"
    }
   ],
   "source": [
    "# melihat method apa saja yang ada pada tuple\n",
    "# menggunakan perintah dir(nama_variabel) atau dir(nama_class) atau dir(nama_fungsi)\n",
    "dir(variabel_tupel)\n",
    "# gunakan perintah dir() untuk variabel yang baru dibuat diatas."
   ]
  },
  {
   "cell_type": "code",
   "execution_count": 47,
   "metadata": {},
   "outputs": [
    {
     "data": {
      "text/plain": [
       "3"
      ]
     },
     "execution_count": 47,
     "metadata": {},
     "output_type": "execute_result"
    }
   ],
   "source": [
    "# menghitung ada berapa nilai yang sama pada suatu tuple\n",
    "nilai_mahasiswa = (70,56,88,70,56,70,77,77,60,65)\n",
    "nilai_mahasiswa.count(70)"
   ]
  },
  {
   "cell_type": "code",
   "execution_count": 73,
   "metadata": {},
   "outputs": [
    {
     "data": {
      "text/plain": [
       "('jojon', 'jijin', 'jujun', 'jejen', 'jojon')"
      ]
     },
     "execution_count": 73,
     "metadata": {},
     "output_type": "execute_result"
    }
   ],
   "source": [
    "# latihan\n",
    "# buat sebuah tuple baru yang berisikan \n",
    "# minimal 5 nama teman kalian, dan tambahkan nama yang sama pada tuple tersebut \n",
    "# didalam posisi yang acak sesuai keinginan kalian\n",
    "nama_temen = ('jojon', 'jijin', 'jujun', 'jejen', 'jojon')\n",
    "nama_temen\n",
    "# ketikkan perintah dan jalankan"
   ]
  },
  {
   "cell_type": "code",
   "execution_count": 61,
   "metadata": {},
   "outputs": [
    {
     "data": {
      "text/plain": [
       "8"
      ]
     },
     "execution_count": 61,
     "metadata": {},
     "output_type": "execute_result"
    }
   ],
   "source": [
    "# mengetahui nilai index suatu nilai pada tuple\n",
    "nilai_mahasiswa.index(60)"
   ]
  },
  {
   "cell_type": "code",
   "execution_count": 71,
   "metadata": {},
   "outputs": [
    {
     "data": {
      "text/plain": [
       "1"
      ]
     },
     "execution_count": 71,
     "metadata": {},
     "output_type": "execute_result"
    }
   ],
   "source": [
    "# latihan\n",
    "# gunakan tuple yang kalian buat kemudian\n",
    "# pilih salah satu nama dan tampilkan nilai index nama tersebut.\n",
    "nama_temen.index(\"jijin\")\n",
    "# ketikkan perintah dan jalankan."
   ]
  },
  {
   "cell_type": "code",
   "execution_count": 74,
   "metadata": {},
   "outputs": [
    {
     "name": "stdout",
     "output_type": "stream",
     "text": [
      "88\n"
     ]
    }
   ],
   "source": [
    "# menampilkan nilai tuple\n",
    "# variabel_tuple[index_number]\n",
    "# nilai index selalu dimulai dengan angka 0.\n",
    "print(nilai_mahasiswa[2])"
   ]
  },
  {
   "cell_type": "code",
   "execution_count": 75,
   "metadata": {},
   "outputs": [
    {
     "name": "stdout",
     "output_type": "stream",
     "text": [
      "jejen\n"
     ]
    }
   ],
   "source": [
    "# latihan\n",
    "# gunakan tuple yang kalian buat kemudian\n",
    "# pilih salah satu index untuk menampilkan nama teman kalian\n",
    "print(nama_temen[3])\n",
    "# ketikkan perintah dan jalankan"
   ]
  },
  {
   "cell_type": "code",
   "execution_count": 79,
   "metadata": {},
   "outputs": [
    {
     "name": "stdout",
     "output_type": "stream",
     "text": [
      "Pemrograman Dasar\n"
     ]
    }
   ],
   "source": [
    "# memasukkan nilai tuple keadalam beberapa variabel sekaligus\n",
    "profil_kegiatan = \"Pemrograman Dasar\", \"Pukul 14.00 - 16.00 WIB\", \"Dosen Pemrograman\"\n",
    "nama_kegiatan, waktu_pelaksanaan, nama_pemateri = profil_kegiatan\n",
    "\n",
    "# tampilkan nama kegiatan\n",
    "print(nama_kegiatan)"
   ]
  },
  {
   "cell_type": "code",
   "execution_count": 80,
   "metadata": {},
   "outputs": [
    {
     "name": "stdout",
     "output_type": "stream",
     "text": [
      "Pukul 14.00 - 16.00 WIB\n"
     ]
    }
   ],
   "source": [
    "# tampilkan waktu pelaksanaan\n",
    "print(waktu_pelaksanaan)"
   ]
  },
  {
   "cell_type": "code",
   "execution_count": 81,
   "metadata": {},
   "outputs": [
    {
     "name": "stdout",
     "output_type": "stream",
     "text": [
      "Dosen Pemrograman\n"
     ]
    }
   ],
   "source": [
    "# tampilkan nama pemateri\n",
    "print(nama_pemateri)"
   ]
  },
  {
   "cell_type": "code",
   "execution_count": 82,
   "metadata": {},
   "outputs": [
    {
     "name": "stdout",
     "output_type": "stream",
     "text": [
      "Pemrograman Dasar akan dilaksanakan pada Pukul 14.00 - 16.00 WIB, dengan pemateri : Dosen Pemrograman\n"
     ]
    }
   ],
   "source": [
    "# menampilkan dengan string.format() function\n",
    "print(\"{} akan dilaksanakan pada {}, dengan pemateri : {}\".format(nama_kegiatan, waktu_pelaksanaan, nama_pemateri))"
   ]
  },
  {
   "cell_type": "code",
   "execution_count": 89,
   "metadata": {},
   "outputs": [
    {
     "name": "stdout",
     "output_type": "stream",
     "text": [
      "sani\n",
      "membaca buku\n",
      "senin\n",
      "10 pagi\n",
      "sani sedang membaca buku, pada hari senin, dan di jam 10 pagi\n"
     ]
    }
   ],
   "source": [
    "# latihan\n",
    "# buat sebuah tuple baru yang berisikan 6 nilai,\n",
    "# kemudian masukkan keempat nilai tersebut kedalam variabel yang kalian sesuaikan dengan\n",
    "# masing-masing nilai\n",
    "user = (\"sani\",\"membaca buku\",\"senin\",\"10 pagi\")\n",
    "nama,objek,hari,waktu = user\n",
    "# ketikkan perintah dan jalankan\n",
    "# tampilkan masing-masing variabel\n",
    "print(nama)\n",
    "print(objek)\n",
    "print(hari)\n",
    "print(waktu)\n",
    "# tampilkan dengan menggunakan fungsi \"string\".format\n",
    "print(\"{} sedang {}, pada hari {}, dan di jam {}\".format(nama,objek,hari,waktu))"
   ]
  },
  {
   "cell_type": "markdown",
   "metadata": {},
   "source": [
    "# Dictionary\n",
    "\n",
    "Bentuk umum Dictionary :\n",
    "- variabel_dictionary = { key: 'value', key: 123, key: [1,23,4], key: (1,2,3,4), ..., key-n: 'value' }\n",
    "\n",
    "Tipe data dictionary menggunakan kurung kurawal {} dan memiliki \"key\" dan \"value\" yang menyimpan nilainya, sebagai mana terlihat pada bentuk umumnya."
   ]
  },
  {
   "cell_type": "code",
   "execution_count": 90,
   "metadata": {},
   "outputs": [
    {
     "name": "stdout",
     "output_type": "stream",
     "text": [
      "{'nama': 'Hendro Kartiko', 'ttl': {'tempat': 'Surabaya', 'tanggal': '17 Agustus 1980'}, 'alamat': 'Jl. Rungkut Industri Perumahan Jawa Timur Surabaya'}\n"
     ]
    }
   ],
   "source": [
    "# contoh Dictionary\n",
    "profil_mahasiswa = {\n",
    "    'nama': \"Hendro Kartiko\",\n",
    "    'ttl': { 'tempat': \"Surabaya\", 'tanggal': \"17 Agustus 1980\" },\n",
    "    'alamat': \"Jl. Rungkut Industri Perumahan Jawa Timur Surabaya\"\n",
    "}\n",
    "print (profil_mahasiswa)"
   ]
  },
  {
   "cell_type": "code",
   "execution_count": 115,
   "metadata": {},
   "outputs": [
    {
     "name": "stdout",
     "output_type": "stream",
     "text": [
      "{'nama_matkul': 'Pemrograman Web', 'sks': 3, 'detail_info': {'nama_dosen': 'Muhammad Syamsul Arif', 'Ruang': 302, 'waktu_kuliah': '10.00-12.00'}}\n"
     ]
    }
   ],
   "source": [
    "# latihan\n",
    "# buat satu dictionary baru mengenai data matakuliah\n",
    "# yang memiliki keys :\n",
    "# nama_matakuliah, sks, detail_info\n",
    "# tambahkan sebuah dictionary sebagai nilai pada key detail_info dengan key :\n",
    "# ruang, dosen, waktu_kuliah\n",
    "matkul = {\n",
    "    \"nama_matkul\" : \"Pemrograman Web\",\n",
    "    \"sks\" : 3,\n",
    "    \"detail_info\" : {\n",
    "        \"nama_dosen\" : \"Muhammad Syamsul Arif\",\n",
    "        \"Ruang\" : 302,\n",
    "        \"waktu_kuliah\" : \"10.00-12.00\"\n",
    "    }\n",
    "}\n",
    "\n",
    "print(matkul)\n",
    "# ikuti contoh diatas\n",
    "# ketikkan dan jalankan perintah"
   ]
  },
  {
   "cell_type": "code",
   "execution_count": 93,
   "metadata": {},
   "outputs": [
    {
     "name": "stdout",
     "output_type": "stream",
     "text": [
      "['__class__', '__contains__', '__delattr__', '__delitem__', '__dir__', '__doc__', '__eq__', '__format__', '__ge__', '__getattribute__', '__getitem__', '__gt__', '__hash__', '__init__', '__init_subclass__', '__iter__', '__le__', '__len__', '__lt__', '__ne__', '__new__', '__reduce__', '__reduce_ex__', '__repr__', '__setattr__', '__setitem__', '__sizeof__', '__str__', '__subclasshook__', 'clear', 'copy', 'fromkeys', 'get', 'items', 'keys', 'pop', 'popitem', 'setdefault', 'update', 'values']\n"
     ]
    }
   ],
   "source": [
    "# menampilkan attribut / method pada dictionary\n",
    "print(dir(profil_mahasiswa))"
   ]
  },
  {
   "cell_type": "code",
   "execution_count": 116,
   "metadata": {},
   "outputs": [
    {
     "data": {
      "text/plain": [
       "dict_keys(['nama', 'ttl', 'alamat'])"
      ]
     },
     "execution_count": 116,
     "metadata": {},
     "output_type": "execute_result"
    }
   ],
   "source": [
    "# menampilkan keys pada dictionary\n",
    "profil_mahasiswa.keys()"
   ]
  },
  {
   "cell_type": "code",
   "execution_count": 117,
   "metadata": {},
   "outputs": [
    {
     "data": {
      "text/plain": [
       "dict_keys(['nama_matkul', 'sks', 'detail_info'])"
      ]
     },
     "execution_count": 117,
     "metadata": {},
     "output_type": "execute_result"
    }
   ],
   "source": [
    "# latihan\n",
    "# tampilkan keys yang terdapat pada dictionary \n",
    "# yang kalian buat menggunakan keys() function\n",
    "matkul.keys()\n",
    "# ketikkan dan jalankan perintah"
   ]
  },
  {
   "cell_type": "code",
   "execution_count": 118,
   "metadata": {},
   "outputs": [
    {
     "data": {
      "text/plain": [
       "dict_items([('nama', 'Hendro Kartiko'), ('ttl', {'tempat': 'Surabaya', 'tanggal': '17 Agustus 1980'}), ('alamat', 'Jl. Rungkut Industri Perumahan Jawa Timur Surabaya')])"
      ]
     },
     "execution_count": 118,
     "metadata": {},
     "output_type": "execute_result"
    }
   ],
   "source": [
    "# menampilkan items yang terdapat pada dictionary\n",
    "profil_mahasiswa.items()"
   ]
  },
  {
   "cell_type": "code",
   "execution_count": 119,
   "metadata": {},
   "outputs": [
    {
     "data": {
      "text/plain": [
       "dict_items([('nama_matkul', 'Pemrograman Web'), ('sks', 3), ('detail_info', {'nama_dosen': 'Muhammad Syamsul Arif', 'Ruang': 302, 'waktu_kuliah': '10.00-12.00'})])"
      ]
     },
     "execution_count": 119,
     "metadata": {},
     "output_type": "execute_result"
    }
   ],
   "source": [
    "# latihan\n",
    "# tampilkan item yang terdapat pada dictionary yang kalian buat\n",
    "matkul.items()\n",
    "# ketikkan dan jalankan perintah"
   ]
  },
  {
   "cell_type": "code",
   "execution_count": 109,
   "metadata": {},
   "outputs": [
    {
     "data": {
      "text/plain": [
       "'Jl. Rungkut Industri Perumahan Jawa Timur Surabaya'"
      ]
     },
     "execution_count": 109,
     "metadata": {},
     "output_type": "execute_result"
    }
   ],
   "source": [
    "# menampilkan alamat\n",
    "profil_mahasiswa.get('alamat')"
   ]
  },
  {
   "cell_type": "code",
   "execution_count": 120,
   "metadata": {},
   "outputs": [
    {
     "data": {
      "text/plain": [
       "{'nama_dosen': 'Muhammad Syamsul Arif',\n",
       " 'Ruang': 302,\n",
       " 'waktu_kuliah': '10.00-12.00'}"
      ]
     },
     "execution_count": 120,
     "metadata": {},
     "output_type": "execute_result"
    }
   ],
   "source": [
    "# latihan\n",
    "# pilih salah satu key dari dictionary yang kalian buat\n",
    "# kemudian tampilkan nilainya dengan menggunakan get() function\n",
    "matkul.get(\"detail_info\")\n",
    "# ketikkan dan jalankan perintah"
   ]
  },
  {
   "cell_type": "code",
   "execution_count": 121,
   "metadata": {},
   "outputs": [
    {
     "data": {
      "text/plain": [
       "'Hendro Kartiko'"
      ]
     },
     "execution_count": 121,
     "metadata": {},
     "output_type": "execute_result"
    }
   ],
   "source": [
    "# mengeluarkan nama dari dictionary\n",
    "profil_mahasiswa.pop('nama')"
   ]
  },
  {
   "cell_type": "code",
   "execution_count": 131,
   "metadata": {},
   "outputs": [
    {
     "data": {
      "text/plain": [
       "'Pemrograman Web'"
      ]
     },
     "execution_count": 131,
     "metadata": {},
     "output_type": "execute_result"
    }
   ],
   "source": [
    "# latihan\n",
    "# pilih salah satu key dari dictionary yang kalian buat\n",
    "# kemudian keluarkan dari dictionary tersebut dan tampilkan kembali item dictionary kalian\n",
    "# apakah ada perbedaan dengan data dictionary sebelumnya\n",
    "matkul.pop(\"nama_matkul\")"
   ]
  },
  {
   "cell_type": "code",
   "execution_count": 129,
   "metadata": {},
   "outputs": [
    {
     "data": {
      "text/plain": [
       "{'ttl': {'tempat': 'Surabaya', 'tanggal': '17 Agustus 1980'},\n",
       " 'alamat': 'Jl. Rungkut Industri Perumahan Jawa Timur Surabaya'}"
      ]
     },
     "execution_count": 129,
     "metadata": {},
     "output_type": "execute_result"
    }
   ],
   "source": [
    "# menampilkan kembali dictionary\n",
    "profil_mahasiswa"
   ]
  },
  {
   "cell_type": "code",
   "execution_count": 134,
   "metadata": {},
   "outputs": [
    {
     "data": {
      "text/plain": [
       "{'ttl': {'tempat': 'Surabaya', 'tanggal': '17 Agustus 1980'},\n",
       " 'alamat': 'Jl. Rungkut Industri Perumahan Jawa Timur Surabaya',\n",
       " 'nama': 'Hendro Kartiko'}"
      ]
     },
     "execution_count": 134,
     "metadata": {},
     "output_type": "execute_result"
    }
   ],
   "source": [
    "# menambahkan kembali key nama \n",
    "# ddengan value 'hendro kartiko' kedalam dictionary\n",
    "profil_mahasiswa['nama'] = 'Hendro Kartiko'\n",
    "profil_mahasiswa"
   ]
  },
  {
   "cell_type": "code",
   "execution_count": 132,
   "metadata": {},
   "outputs": [
    {
     "data": {
      "text/plain": [
       "{'sks': 3,\n",
       " 'detail_info': {'nama_dosen': 'Muhammad Syamsul Arif',\n",
       "  'Ruang': 302,\n",
       "  'waktu_kuliah': '10.00-12.00'},\n",
       " 'nama_matkul': 'Pemrograman Web'}"
      ]
     },
     "execution_count": 132,
     "metadata": {},
     "output_type": "execute_result"
    }
   ],
   "source": [
    "# latihan\n",
    "# tambahkan kembali key dan nilai yang kalian keluarkan kedalam dictionary kalian.\n",
    "# dan tampilkan dictionary tersebut\n",
    "matkul[\"nama_matkul\"] = \"Pemrograman Web\"\n",
    "matkul\n",
    "# pastikan terdapat perbedaan dengan dictionary sebelumnya"
   ]
  },
  {
   "cell_type": "code",
   "execution_count": 135,
   "metadata": {},
   "outputs": [
    {
     "data": {
      "text/plain": [
       "'Hendro Kartiko'"
      ]
     },
     "execution_count": 135,
     "metadata": {},
     "output_type": "execute_result"
    }
   ],
   "source": [
    "# menampilkan data\n",
    "profil_mahasiswa['nama']"
   ]
  },
  {
   "cell_type": "code",
   "execution_count": 136,
   "metadata": {},
   "outputs": [
    {
     "data": {
      "text/plain": [
       "'Surabaya'"
      ]
     },
     "execution_count": 136,
     "metadata": {},
     "output_type": "execute_result"
    }
   ],
   "source": [
    "# menampilkan data\n",
    "profil_mahasiswa['ttl']['tempat']"
   ]
  },
  {
   "cell_type": "code",
   "execution_count": 138,
   "metadata": {},
   "outputs": [
    {
     "data": {
      "text/plain": [
       "'Muhammad Syamsul Arif'"
      ]
     },
     "execution_count": 138,
     "metadata": {},
     "output_type": "execute_result"
    }
   ],
   "source": [
    "# latihan\n",
    "# tampilkan nilai dari key dosen yang \n",
    "# terdapat didalam key detail info\n",
    "matkul[\"detail_info\"][\"nama_dosen\"]\n",
    "# ketikkan perintah dan jalankan."
   ]
  }
 ],
 "metadata": {
  "kernelspec": {
   "display_name": "Python 3",
   "language": "python",
   "name": "python3"
  },
  "language_info": {
   "codemirror_mode": {
    "name": "ipython",
    "version": 3
   },
   "file_extension": ".py",
   "mimetype": "text/x-python",
   "name": "python",
   "nbconvert_exporter": "python",
   "pygments_lexer": "ipython3",
   "version": "3.7.0"
  }
 },
 "nbformat": 4,
 "nbformat_minor": 2
}
