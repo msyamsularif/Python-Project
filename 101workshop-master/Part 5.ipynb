{
 "cells": [
  {
   "cell_type": "markdown",
   "metadata": {},
   "source": [
    "# Latihan Logika Pemrograman Part 2.\n",
    "\n",
    "Pada modul ini, akan dilakukan latihan logika pemrograman dasar yang menggunakan loop (perulangan), if ... else (strukktur controll)."
   ]
  },
  {
   "cell_type": "code",
   "execution_count": 1,
   "metadata": {},
   "outputs": [
    {
     "name": "stdout",
     "output_type": "stream",
     "text": [
      "*\n",
      "**\n",
      "***\n",
      "****\n",
      "*****\n",
      "******\n"
     ]
    }
   ],
   "source": [
    "# Latihan 1 : Segitiga 45 derajat\n",
    "\n",
    "#  *\n",
    "#  **\n",
    "#  ***\n",
    "#  ****\n",
    "#  *****\n",
    "#  ******\n",
    "\n",
    "# berikut adalah script yang akan mengenerate segitiga seperti contoh diatas.\n",
    "\n",
    "# Cara 1.\n",
    "for i in range (1,7):\n",
    "    print (\"*\" * i)"
   ]
  },
  {
   "cell_type": "code",
   "execution_count": 2,
   "metadata": {},
   "outputs": [
    {
     "name": "stdout",
     "output_type": "stream",
     "text": [
      "\n",
      "*\n",
      "**\n",
      "***\n",
      "****\n",
      "*****\n",
      "******\n"
     ]
    }
   ],
   "source": [
    "# Cara 2.\n",
    "for i in range(1, 8):\n",
    "    star = \"\"\n",
    "    for x in range(1, i):\n",
    "        star += \"*\"\n",
    "    print(star)"
   ]
  },
  {
   "cell_type": "code",
   "execution_count": 127,
   "metadata": {
    "scrolled": true
   },
   "outputs": [
    {
     "name": "stdout",
     "output_type": "stream",
     "text": [
      "      \n",
      "     *\n",
      "    **\n",
      "   ***\n",
      "  ****\n",
      " *****\n",
      "******\n"
     ]
    }
   ],
   "source": [
    "# Latihan 2 : Segitiga terbalik\n",
    "\n",
    "#      *\n",
    "#     **\n",
    "#    ***\n",
    "#   ****\n",
    "#  *****\n",
    "# ******\n",
    "\n",
    "# berikut adalah script yang akan mengenerate segitiga seperti contoh diatas.\n",
    "nmax = 8\n",
    "for i in range(1,nmax):\n",
    "    star = \"\"\n",
    "    rstar = \"\"\n",
    "    space = \"\"\n",
    "    for s in range((nmax - i), 1, -1):\n",
    "        space += \" \"\n",
    "    \n",
    "    for x in range(1, i):\n",
    "        star += \"*\"\n",
    "    \n",
    "    rstar += space + star\n",
    "    print (rstar)"
   ]
  },
  {
   "cell_type": "code",
   "execution_count": 27,
   "metadata": {},
   "outputs": [
    {
     "name": "stdout",
     "output_type": "stream",
     "text": [
      "                 1                \n",
      "               2 1 2\n",
      "             3 2 1 2 3\n",
      "           4 3 2 1 2 3 4\n",
      "         5 4 3 2 1 2 3 4 5\n",
      "       6 5 4 3 2 1 2 3 4 5 6\n",
      "     7 6 5 4 3 2 1 2 3 4 5 6 7\n",
      "   8 7 6 5 4 3 2 1 2 3 4 5 6 7 8\n",
      " 9 8 7 6 5 4 3 2 1 2 3 4 5 6 7 8 9\n"
     ]
    }
   ],
   "source": [
    "# Latihan 3 : segitiga angka\n",
    "\n",
    "#                 1                \n",
    "#               2 1 2\n",
    "#             3 2 1 2 3\n",
    "#           4 3 2 1 2 3 4\n",
    "#         5 4 3 2 1 2 3 4 5\n",
    "#       6 5 4 3 2 1 2 3 4 5 6\n",
    "#     7 6 5 4 3 2 1 2 3 4 5 6 7\n",
    "#   8 7 6 5 4 3 2 1 2 3 4 5 6 7 8\n",
    "# 9 8 7 6 5 4 3 2 1 2 3 4 5 6 7 8 9\n",
    "\n",
    "# berikut adalah script untuk mengenerate segitiga angka.\n",
    "nmax = 9\n",
    "mid = nmax * 2 - 10\n",
    "space = \"\"\n",
    "nmr = \"\"\n",
    "\n",
    "for i in range (1, nmax):\n",
    "    space += \"  \"\n",
    "\n",
    "print (space + \" 1\" + space)\n",
    "\n",
    "for x in range(2,10):\n",
    "    nmr1=\"\"\n",
    "    for r in range(x, 0,-1):\n",
    "        nmr1 += \" \" + str(r)\n",
    "    \n",
    "    nmr2=\"\"\n",
    "    for l in range(2,x+1):\n",
    "        nmr2 += \" \" + str(l)\n",
    "        \n",
    "    spacex=\"\"\n",
    "    for s in range(1, 10 - x):\n",
    "        spacex += \"  \"\n",
    "    print (spacex + nmr1 + nmr2)"
   ]
  },
  {
   "cell_type": "markdown",
   "metadata": {},
   "source": [
    "# Tugas\n",
    "\n",
    "1. Buat script untuk mengenerate segitiga :\n"
   ]
  },
  {
   "cell_type": "code",
   "execution_count": null,
   "metadata": {},
   "outputs": [],
   "source": [
    "# - Segitiga 1.\n",
    "\n",
    "# *\n",
    "# **\n",
    "# ***\n",
    "# ****\n",
    "# *****\n",
    "# ******\n",
    "# *****\n",
    "# ****\n",
    "# ***\n",
    "# **\n",
    "# *\n",
    "\n",
    "# - Segitiga 2.\n",
    "\n",
    "#      *\n",
    "#     **\n",
    "#    ***\n",
    "#   ****\n",
    "#  *****\n",
    "# ******\n",
    "#  *****\n",
    "#   ****\n",
    "#    ***\n",
    "#     **\n",
    "#      *\n",
    "     \n",
    "\n",
    "# - Segitiga 3.\n",
    "\n",
    "#       1\n",
    "#     1 3 1\n",
    "#   1 3 5 3 1\n",
    "# 1 3 5 7 5 3 1"
   ]
  },
  {
   "cell_type": "code",
   "execution_count": 150,
   "metadata": {
    "scrolled": true
   },
   "outputs": [
    {
     "name": "stdout",
     "output_type": "stream",
     "text": [
      "          *          \n",
      "         ***         \n",
      "        *****        \n",
      "       *******       \n",
      "      *********      \n",
      "     ***********     \n"
     ]
    }
   ],
   "source": [
    "for i in range(6):\n",
    "    print(('*'*(1+2*i)).center(1+2*10))"
   ]
  },
  {
   "cell_type": "code",
   "execution_count": 171,
   "metadata": {},
   "outputs": [
    {
     "name": "stdout",
     "output_type": "stream",
     "text": [
      "\n",
      "*\n",
      "**\n",
      "***\n",
      "****\n",
      "*****\n",
      "******\n"
     ]
    }
   ],
   "source": [
    "for i in range(7):\n",
    "    for j in range(i):\n",
    "        print(\"*\", end=\"\")\n",
    "    print()"
   ]
  },
  {
   "cell_type": "code",
   "execution_count": 222,
   "metadata": {},
   "outputs": [
    {
     "name": "stdout",
     "output_type": "stream",
     "text": [
      "\n",
      "*\n",
      "**\n",
      "***\n",
      "****\n",
      "*****\n",
      "******\n",
      "*****\n",
      "****\n",
      "***\n",
      "**\n",
      "*\n"
     ]
    }
   ],
   "source": [
    "# - Segitiga 1.\n",
    "max = 6\n",
    "\n",
    "for i in range(max*2):\n",
    "    #sisi atas\n",
    "    if i <= max:\n",
    "        print(\"*\"*i)\n",
    "    #sisi bawah\n",
    "    if i > max:\n",
    "        print(\"*\"*(max*2-i))"
   ]
  },
  {
   "cell_type": "code",
   "execution_count": 429,
   "metadata": {},
   "outputs": [
    {
     "name": "stdout",
     "output_type": "stream",
     "text": [
      "      \n",
      "     *\n",
      "    **\n",
      "   ***\n",
      "  ****\n",
      " *****\n",
      "******\n",
      " *****\n",
      "  ****\n",
      "   ***\n",
      "    **\n",
      "     *\n"
     ]
    }
   ],
   "source": [
    "# - Segitiga 2.\n",
    "#cara ke 1\n",
    "max = 6\n",
    "string = \"\"\n",
    "for i in range(max*2):\n",
    "    #sisi atas\n",
    "    if i <= max:\n",
    "        space1 = \"\"\n",
    "        for s in range((max - i), 0, -1):\n",
    "            space1 += \" \"\n",
    "        print(space1 + \"*\"*i)\n",
    "    #sisi bawah\n",
    "    if i > max:\n",
    "        space2 = \"\"\n",
    "        for b in range((i-max), 0, -1):\n",
    "            space2 += \" \"\n",
    "        print(space2 + \"*\"*(max*2-i))"
   ]
  },
  {
   "cell_type": "code",
   "execution_count": 203,
   "metadata": {},
   "outputs": [
    {
     "name": "stdout",
     "output_type": "stream",
     "text": [
      "     *\n",
      "    **\n",
      "   ***\n",
      "  ****\n",
      " *****\n",
      "******\n",
      " *****\n",
      "  ****\n",
      "   ***\n",
      "    **\n",
      "     *\n"
     ]
    }
   ],
   "source": [
    "# - Segitiga 2.\n",
    "#cara ke 2\n",
    "max = 6\n",
    "\n",
    "#sisi atas\n",
    "print('\\n'.join([' '*(max-i) + '*'*i for i in range(1,max+1)]))\n",
    "#sisi bawah   \n",
    "print('\\n'.join([' '*(max-i) + '*'*i for i in range(max-1,0,-1)]))"
   ]
  },
  {
   "cell_type": "code",
   "execution_count": 428,
   "metadata": {},
   "outputs": [
    {
     "name": "stdout",
     "output_type": "stream",
     "text": [
      "      \n",
      "     *\n",
      "    **\n",
      "   ***\n",
      "  ****\n",
      " *****\n",
      "******\n",
      " *****\n",
      "  ****\n",
      "   ***\n",
      "    **\n",
      "     *\n"
     ]
    }
   ],
   "source": [
    "# - Segitiga 2.\n",
    "#cara ke 3\n",
    "max = 6\n",
    "string = \"\"\n",
    "for i in range(max*2):\n",
    "    #sisi atas\n",
    "    if i <= max:\n",
    "        space1 = \" \" * (max-i)\n",
    "        print(space1 + \"*\"*i)\n",
    "    #sisi bawah\n",
    "    if i > max:\n",
    "        space2 = \" \" * (i - max)\n",
    "        print(space2 + \"*\"*(max*2-i))"
   ]
  },
  {
   "cell_type": "code",
   "execution_count": 66,
   "metadata": {},
   "outputs": [
    {
     "name": "stdout",
     "output_type": "stream",
     "text": [
      "       1\n",
      "     1 3 1\n",
      "   1 3 5 3 1\n",
      " 1 3 5 7 5 3 1\n"
     ]
    }
   ],
   "source": [
    "angka1 = \"\"\n",
    "angka2 = \"\"\n",
    "\n",
    "for x in range(4):\n",
    "    nmr1=\"\"\n",
    "    for r in range(x): \n",
    "        angka1=str((r*2)+1)\n",
    "        nmr1 += \" \" + angka1\n",
    "        \n",
    "    nmr2=\"\"\n",
    "    for l in range(x,-1,-1): \n",
    "        angka2=str((l*2)+1)\n",
    "        nmr2 += \" \" + angka2\n",
    "        \n",
    "    spacex=\"\"\n",
    "    for s in range(1, 4 - x):\n",
    "        spacex += \"  \"\n",
    "    print (spacex + nmr1 + nmr2)"
   ]
  },
  {
   "cell_type": "code",
   "execution_count": null,
   "metadata": {},
   "outputs": [],
   "source": [
    "# -3 -2 -1 0 1 2 3"
   ]
  },
  {
   "cell_type": "code",
   "execution_count": 99,
   "metadata": {},
   "outputs": [
    {
     "name": "stdout",
     "output_type": "stream",
     "text": [
      "4 3 2 1 0 -1 "
     ]
    }
   ],
   "source": [
    "for x in range(4,-2,-1):\n",
    "    print(x,end=\" \")\n",
    "#     for l in range(x,-1,-1):\n",
    "#         print(l,end=\" \")\n",
    "#     print()"
   ]
  },
  {
   "cell_type": "code",
   "execution_count": null,
   "metadata": {},
   "outputs": [],
   "source": []
  }
 ],
 "metadata": {
  "kernelspec": {
   "display_name": "Python 3",
   "language": "python",
   "name": "python3"
  },
  "language_info": {
   "codemirror_mode": {
    "name": "ipython",
    "version": 3
   },
   "file_extension": ".py",
   "mimetype": "text/x-python",
   "name": "python",
   "nbconvert_exporter": "python",
   "pygments_lexer": "ipython3",
   "version": "3.7.0"
  }
 },
 "nbformat": 4,
 "nbformat_minor": 2
}
