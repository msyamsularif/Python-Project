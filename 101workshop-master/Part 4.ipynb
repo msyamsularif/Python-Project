{
 "cells": [
  {
   "cell_type": "markdown",
   "metadata": {},
   "source": [
    "# Latihan Logika Pemrograman Part 1.\n",
    "\n",
    "Pada modul ini, akan dilakukan latihan logika pemrograman dasar yang menggunakan loop (perulangan), if ... else (strukktur controll)."
   ]
  },
  {
   "cell_type": "code",
   "execution_count": 1,
   "metadata": {},
   "outputs": [
    {
     "name": "stdout",
     "output_type": "stream",
     "text": [
      "Python Script : Ganjil - Genap \n",
      "\n",
      "Data 1 adalah Ganjil\n",
      "Data 2 adalah Genap\n",
      "Data 11 adalah Ganjil\n",
      "Data 5 adalah Ganjil\n",
      "Data 14 adalah Genap\n",
      "Data 5 adalah Ganjil\n",
      "Data 17 adalah Ganjil\n"
     ]
    }
   ],
   "source": [
    "# Latihan 1 : Menampilkan bilangan ganjil dan genap.\n",
    "\n",
    "# Diberikan suatu list data,\n",
    "# kemudian akan dilakukan filter apakah data tersebut merupakan bilangan ganjil atau genap.\n",
    "\n",
    "\n",
    "print (\"Python Script : Ganjil - Genap \\n\")\n",
    "list_data = [1, 2, 11, 5, 14, 5, 17]\n",
    "\n",
    "for data in list_data:\n",
    "    if (data % 2) == 0:\n",
    "        print (\"Data {} adalah Genap\".format(data))\n",
    "    else:\n",
    "        print (\"Data {} adalah Ganjil\".format(data))"
   ]
  },
  {
   "cell_type": "code",
   "execution_count": 2,
   "metadata": {},
   "outputs": [
    {
     "name": "stdout",
     "output_type": "stream",
     "text": [
      "Nilai Terbesar dari list data [1, 2, 11, 5, 14, 5, 17] adalah : 17\n"
     ]
    }
   ],
   "source": [
    "# Latihan 2 : Menemukan Nilai terbesar.\n",
    "\n",
    "# Diberikan suatu list data\n",
    "# kemudian akan dilakukan perbandingan nilai satu dengan lainnya untuk menentukan nilai terbesar.\n",
    "# sebagai nilai awal diberikan nilai 0 pada variabel Nilai Maximum.\n",
    "\n",
    "# variabel Nilai Max\n",
    "n_max = 0\n",
    "list_data = [1, 2, 11, 5, 14, 5, 17]\n",
    "\n",
    "for data in list_data:\n",
    "    if n_max < data:\n",
    "        n_max = data\n",
    "        \n",
    "print (\"Nilai Terbesar dari list data {} adalah : {}\".format(list_data, n_max))"
   ]
  },
  {
   "cell_type": "code",
   "execution_count": 11,
   "metadata": {},
   "outputs": [
    {
     "name": "stdout",
     "output_type": "stream",
     "text": [
      "sEKOLAHaLAMbARUlAGI\n"
     ]
    }
   ],
   "source": [
    "# Latihan 3 : Uppercase to LowerCase and Lowercase To UpperCase\n",
    "\n",
    "# Diberika sebuah string\n",
    "# kemudian ubahlah string tersebut yang sebelumnya huruf kecil menjadi Huruf Besar (Kapital)\n",
    "# Huruf Besar (Kapital) menjadi huruf kecil\n",
    "\n",
    "list_string = 'SekolahAlamBaruLagi'\n",
    "result = ''\n",
    "\n",
    "for data in list_string:\n",
    "    if (ord(data) >= 65 and ord(data) <= 90):\n",
    "        result += data.lower()\n",
    "    else:\n",
    "        result += data.upper()\n",
    "\n",
    "print(result)"
   ]
  },
  {
   "cell_type": "code",
   "execution_count": 5,
   "metadata": {},
   "outputs": [
    {
     "name": "stdout",
     "output_type": "stream",
     "text": [
      "nakgnaneyneM tagnaS nohtyP namargormeP rajaleB\n"
     ]
    }
   ],
   "source": [
    "# Latihan 4 : Mengubah urutan sebuah string.\n",
    "\n",
    "# Diberikan sebuah string contoh : adi, yang akan diubah posisinya \n",
    "# menjadi ida.\n",
    "\n",
    "kalimat = \"Belajar Pemrograman Python Sangat Menyenangkan\"\n",
    "rev_kalimat = \"\"\n",
    "for indeks in range(1, len(kalimat) + 1):\n",
    "    rev_kalimat += kalimat[len(kalimat) - indeks]\n",
    "\n",
    "print(rev_kalimat)"
   ]
  },
  {
   "cell_type": "markdown",
   "metadata": {},
   "source": [
    "# Tugas.\n",
    "\n",
    "- Diberikan satu list angka [1,3,5,13,7,14,8,9,2,10,4,16]\n",
    "1. Temukan Angka berapa saja yang hilang.\n",
    "2. Pisahkan Angka Ganjil dan Genap\n",
    "3. urutkan Angka yang sudah dipisahkan tersebut dari kecil ke besar.\n",
    "\n",
    "=========================================================================================================="
   ]
  },
  {
   "cell_type": "code",
   "execution_count": 45,
   "metadata": {},
   "outputs": [
    {
     "name": "stdout",
     "output_type": "stream",
     "text": [
      "[6, 11, 12, 15]\n"
     ]
    }
   ],
   "source": [
    "#mencari angka yang hilang\n",
    "a = [1,3,5,13,7,14,8,9,2,10,4,16]\n",
    "missing_element = []\n",
    "for i in range(a[0], a[-1]+1):\n",
    "    if i not in a:\n",
    "        missing_element.append(i)\n",
    "print(missing_element)\n"
   ]
  },
  {
   "cell_type": "code",
   "execution_count": 72,
   "metadata": {},
   "outputs": [
    {
     "name": "stdout",
     "output_type": "stream",
     "text": [
      "[2, 4, 8, 10, 14, 16]\n"
     ]
    }
   ],
   "source": [
    "#pisahkan angka genap\n",
    "a = [1,3,5,13,7,14,8,9,2,10,4,16]\n",
    "genap = []\n",
    " \n",
    "for n in a:\n",
    "    if n%2 == 0:\n",
    "        genap.append(n)\n",
    "genap.sort()\n",
    "print(genap)"
   ]
  },
  {
   "cell_type": "code",
   "execution_count": 74,
   "metadata": {},
   "outputs": [
    {
     "name": "stdout",
     "output_type": "stream",
     "text": [
      "[1, 3, 5, 7, 9, 13]\n"
     ]
    }
   ],
   "source": [
    "#pisahkan angka ganjil\n",
    "a = [1,3,5,13,7,14,8,9,2,10,4,16]\n",
    "ganjil = []\n",
    " \n",
    "for n in a:\n",
    "    if n%2 == 1:\n",
    "        ganjil.append(n)\n",
    "ganjil.sort()\n",
    "print(ganjil)"
   ]
  }
 ],
 "metadata": {
  "kernelspec": {
   "display_name": "Python 3",
   "language": "python",
   "name": "python3"
  },
  "language_info": {
   "codemirror_mode": {
    "name": "ipython",
    "version": 3
   },
   "file_extension": ".py",
   "mimetype": "text/x-python",
   "name": "python",
   "nbconvert_exporter": "python",
   "pygments_lexer": "ipython3",
   "version": "3.7.0"
  }
 },
 "nbformat": 4,
 "nbformat_minor": 2
}
