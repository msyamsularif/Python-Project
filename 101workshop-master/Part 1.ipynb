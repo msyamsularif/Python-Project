{
 "cells": [
  {
   "cell_type": "markdown",
   "metadata": {},
   "source": [
    "# Modul Python Part 1"
   ]
  },
  {
   "cell_type": "markdown",
   "metadata": {},
   "source": [
    "# Komentar pada script\n",
    "\n",
    "Pada python terdapat 2 (dua) cara penulisan komentar pada script yaitu :\n",
    "1. Menggunakan #\n",
    "2. menggunakan \"\"\" text \"\"\"\n",
    "\n",
    "penulisan komentar pada script memudahkan kita untuk mengingat proses yang sedang dikerjakan pada baris kode tersebut."
   ]
  },
  {
   "cell_type": "code",
   "execution_count": null,
   "metadata": {
    "scrolled": false
   },
   "outputs": [],
   "source": [
    "# Ini merupakan Contoh single line comment"
   ]
  },
  {
   "cell_type": "code",
   "execution_count": null,
   "metadata": {
    "scrolled": false
   },
   "outputs": [],
   "source": [
    "\"\"\"Multiple line of comment\n",
    "dapat ditulis komentar berupa deskripsi aplikasi\n",
    "ataupun script yang akan digunakan.\"\"\""
   ]
  },
  {
   "cell_type": "markdown",
   "metadata": {},
   "source": [
    "# Variabel, String, Numerik\n"
   ]
  },
  {
   "cell_type": "markdown",
   "metadata": {},
   "source": [
    "Variabel adalah media untuk menyimpan data / nilai, data / nilai dapat juga berasal dari hasil penjumlahan matematis ataupun berasal dari input user.\n",
    "\n",
    "- Membuat Variabel"
   ]
  },
  {
   "cell_type": "code",
   "execution_count": 1,
   "metadata": {},
   "outputs": [],
   "source": [
    "# nama_variable = nilai\n",
    "variable_1 = 10\n",
    "\n",
    "# namaVariable = nilai\n",
    "varVolume = 50\n",
    "\n",
    "# NamaVariable = nilai\n",
    "VarVolume = 50"
   ]
  },
  {
   "cell_type": "markdown",
   "metadata": {},
   "source": [
    "- Aturan Nama Variabel"
   ]
  },
  {
   "cell_type": "code",
   "execution_count": null,
   "metadata": {},
   "outputs": [],
   "source": [
    "# Tidak boleh dimulai dengan angka\n",
    "13volume1 = 40"
   ]
  },
  {
   "cell_type": "code",
   "execution_count": null,
   "metadata": {},
   "outputs": [],
   "source": [
    "# Tidak boleh angka\n",
    "1313 = '100'"
   ]
  },
  {
   "cell_type": "code",
   "execution_count": 5,
   "metadata": {},
   "outputs": [
    {
     "name": "stdout",
     "output_type": "stream",
     "text": [
      "50\n"
     ]
    }
   ],
   "source": [
    "#Pseudocode\n",
    "# definisikan nilai volume = 30\n",
    "# definisikan nilai panjang = 10\n",
    "# definisikan nilai lebar = 20\n",
    "# jumlahkan panjang dan lebar\n",
    "\n",
    "# Nama variabel case sensitive (huruf besar / kecil berpengaruh)\n",
    "Volume = 50\n",
    "volume = 30\n",
    "\n",
    "panjang = 10\n",
    "lebar = 20\n",
    "cetak = panjang + lebar\n",
    "\n",
    "print(Volume)"
   ]
  },
  {
   "cell_type": "code",
   "execution_count": null,
   "metadata": {},
   "outputs": [],
   "source": [
    "# Nama variabel sebaiknya tidak sama dengan nama fungsi dasar pada python\n",
    "var_1 = 5"
   ]
  },
  {
   "cell_type": "markdown",
   "metadata": {},
   "source": [
    "- Membuat beberapa variabel sekaligus"
   ]
  },
  {
   "cell_type": "code",
   "execution_count": null,
   "metadata": {},
   "outputs": [],
   "source": [
    "# nama_variabel_1 = nama_variabel_2 = ... = nilai\n",
    "panjang = lebar = tinggi = 30\n",
    "tinggi"
   ]
  },
  {
   "cell_type": "code",
   "execution_count": null,
   "metadata": {},
   "outputs": [],
   "source": [
    "panjang = 30\n",
    "lebar = 30\n",
    "tinggi = 30\n",
    "\n",
    "# print(panjang)\n",
    "# print(lebar)\n",
    "# print(tinggi)"
   ]
  },
  {
   "cell_type": "markdown",
   "metadata": {},
   "source": [
    "String pada python adalah salah satu jenis tipe data. string dapat berupa satu atau lebih karakter ataupun dapat berupa kalimat panjang.\n",
    "\n",
    "- Membuat string"
   ]
  },
  {
   "cell_type": "code",
   "execution_count": null,
   "metadata": {},
   "outputs": [],
   "source": [
    "'ini adalah string'"
   ]
  },
  {
   "cell_type": "code",
   "execution_count": null,
   "metadata": {},
   "outputs": [],
   "source": [
    "\"ini adalah cara ke-2 membuat string\""
   ]
  },
  {
   "cell_type": "code",
   "execution_count": null,
   "metadata": {},
   "outputs": [],
   "source": [
    "'''ini adalah cara ke-3 pembuatan string'''"
   ]
  },
  {
   "cell_type": "code",
   "execution_count": null,
   "metadata": {},
   "outputs": [],
   "source": [
    "'ini adalah string \"dengan double quotes string\"'"
   ]
  },
  {
   "cell_type": "code",
   "execution_count": null,
   "metadata": {},
   "outputs": [],
   "source": [
    "# \"ini adalah string jum'at\"\n",
    "'ini adalah string jum\\'at'"
   ]
  },
  {
   "cell_type": "code",
   "execution_count": null,
   "metadata": {},
   "outputs": [],
   "source": [
    "\"ini adalah string jum'at\""
   ]
  },
  {
   "cell_type": "code",
   "execution_count": 6,
   "metadata": {},
   "outputs": [
    {
     "name": "stdout",
     "output_type": "stream",
     "text": [
      "satu\n",
      "dua\n",
      "tiga\n"
     ]
    }
   ],
   "source": [
    "print (\"satu\\ndua\\ntiga\")"
   ]
  },
  {
   "cell_type": "markdown",
   "metadata": {},
   "source": [
    "Fungsi str() digunakan untuk mengkonversi tipe data lainnya menjadi sebuah string. sebagai contoh : mengubah tipe data integer (int) menjadi (str). seperti pada contoh dibawah.\n",
    "\n",
    "- Fungsi str()"
   ]
  },
  {
   "cell_type": "code",
   "execution_count": 3,
   "metadata": {},
   "outputs": [
    {
     "data": {
      "text/plain": [
       "int"
      ]
     },
     "execution_count": 3,
     "metadata": {},
     "output_type": "execute_result"
    }
   ],
   "source": [
    "variabel_1 = 11\n",
    "type(11)"
   ]
  },
  {
   "cell_type": "code",
   "execution_count": 4,
   "metadata": {},
   "outputs": [
    {
     "data": {
      "text/plain": [
       "str"
      ]
     },
     "execution_count": 4,
     "metadata": {},
     "output_type": "execute_result"
    }
   ],
   "source": [
    "variabel_2 = 'hello world'\n",
    "type(variabel_2)"
   ]
  },
  {
   "cell_type": "code",
   "execution_count": 8,
   "metadata": {},
   "outputs": [
    {
     "ename": "TypeError",
     "evalue": "unsupported operand type(s) for +: 'int' and 'str'",
     "output_type": "error",
     "traceback": [
      "\u001b[1;31m---------------------------------------------------------------------------\u001b[0m",
      "\u001b[1;31mTypeError\u001b[0m                                 Traceback (most recent call last)",
      "\u001b[1;32m<ipython-input-8-aea50d74f4e7>\u001b[0m in \u001b[0;36m<module>\u001b[1;34m()\u001b[0m\n\u001b[1;32m----> 1\u001b[1;33m \u001b[0mprint\u001b[0m\u001b[1;33m(\u001b[0m\u001b[0mvariabel_1\u001b[0m \u001b[1;33m+\u001b[0m \u001b[0mvariabel_2\u001b[0m\u001b[1;33m)\u001b[0m\u001b[1;33m\u001b[0m\u001b[0m\n\u001b[0m",
      "\u001b[1;31mTypeError\u001b[0m: unsupported operand type(s) for +: 'int' and 'str'"
     ]
    }
   ],
   "source": [
    "print(variabel_1 + variabel_2)"
   ]
  },
  {
   "cell_type": "code",
   "execution_count": 6,
   "metadata": {},
   "outputs": [
    {
     "name": "stdout",
     "output_type": "stream",
     "text": [
      "11 hello world\n"
     ]
    }
   ],
   "source": [
    "# variabel_1 = \"11\"\n",
    "print(str(variabel_1) + \" \" + variabel_2)"
   ]
  },
  {
   "cell_type": "markdown",
   "metadata": {},
   "source": [
    "Number adalah salah satu tipe data pada python yang berupa angka. Dapat berupa angka bulat positif / negatif, float number atau bilangan desimal.\n",
    "- Membuat numerik"
   ]
  },
  {
   "cell_type": "code",
   "execution_count": 11,
   "metadata": {},
   "outputs": [
    {
     "data": {
      "text/plain": [
       "123123"
      ]
     },
     "execution_count": 11,
     "metadata": {},
     "output_type": "execute_result"
    }
   ],
   "source": [
    "123123"
   ]
  },
  {
   "cell_type": "code",
   "execution_count": null,
   "metadata": {},
   "outputs": [],
   "source": [
    "-3000"
   ]
  },
  {
   "cell_type": "code",
   "execution_count": null,
   "metadata": {},
   "outputs": [],
   "source": [
    "50.33"
   ]
  },
  {
   "cell_type": "markdown",
   "metadata": {},
   "source": [
    "Fungsi integer (int()) merupakan salah satu fungsi yang biasa digunakan untuk mengubah string menjadi integer, namun jika diterapkan pada tipe data float (bilangan desimal), maka nilai nilai setelah koma akan dibuang.\n",
    "\n",
    "- Fungsi int()"
   ]
  },
  {
   "cell_type": "code",
   "execution_count": 12,
   "metadata": {},
   "outputs": [
    {
     "data": {
      "text/plain": [
       "str"
      ]
     },
     "execution_count": 12,
     "metadata": {},
     "output_type": "execute_result"
    }
   ],
   "source": [
    "# int(parameter)\n",
    "type(\"        33    \")"
   ]
  },
  {
   "cell_type": "code",
   "execution_count": 13,
   "metadata": {},
   "outputs": [
    {
     "data": {
      "text/plain": [
       "33"
      ]
     },
     "execution_count": 13,
     "metadata": {},
     "output_type": "execute_result"
    }
   ],
   "source": [
    "int(\"        33    \")"
   ]
  },
  {
   "cell_type": "code",
   "execution_count": 14,
   "metadata": {},
   "outputs": [
    {
     "data": {
      "text/plain": [
       "50"
      ]
     },
     "execution_count": 14,
     "metadata": {},
     "output_type": "execute_result"
    }
   ],
   "source": [
    "int(50.93)"
   ]
  },
  {
   "cell_type": "markdown",
   "metadata": {},
   "source": [
    "# Fungsi dasar python"
   ]
  },
  {
   "cell_type": "markdown",
   "metadata": {},
   "source": [
    "- print()\n",
    "Print merupakan fungsi dasar yang digunakan untuk menampilkan informasi kepada user sebagai bentuk respon script python terhadap input maupun hasil proses yang dihasilkan."
   ]
  },
  {
   "cell_type": "code",
   "execution_count": 15,
   "metadata": {},
   "outputs": [
    {
     "data": {
      "text/plain": [
       "<function print>"
      ]
     },
     "execution_count": 15,
     "metadata": {},
     "output_type": "execute_result"
    }
   ],
   "source": [
    "print"
   ]
  },
  {
   "cell_type": "code",
   "execution_count": 16,
   "metadata": {},
   "outputs": [
    {
     "name": "stdout",
     "output_type": "stream",
     "text": [
      "ekspresi1\n"
     ]
    }
   ],
   "source": [
    "# print(ekspresi1, ekspresi2, ...)\n",
    "print('ekspresi1')"
   ]
  },
  {
   "cell_type": "code",
   "execution_count": 17,
   "metadata": {},
   "outputs": [
    {
     "name": "stdout",
     "output_type": "stream",
     "text": [
      "ekspresi1 ekspresi2\n"
     ]
    }
   ],
   "source": [
    "print('ekspresi1', 'ekspresi2')"
   ]
  },
  {
   "cell_type": "code",
   "execution_count": 18,
   "metadata": {},
   "outputs": [
    {
     "name": "stdout",
     "output_type": "stream",
     "text": [
      "5000\n"
     ]
    }
   ],
   "source": [
    "print (5000)"
   ]
  },
  {
   "cell_type": "code",
   "execution_count": 19,
   "metadata": {},
   "outputs": [
    {
     "name": "stdout",
     "output_type": "stream",
     "text": [
      "nur isha\n"
     ]
    }
   ],
   "source": [
    "# ubah kata nama anda menjadi string sesuai nama anda\n",
    "print ('nur isha')\n"
   ]
  },
  {
   "cell_type": "code",
   "execution_count": 26,
   "metadata": {},
   "outputs": [
    {
     "name": "stdout",
     "output_type": "stream",
     "text": [
      "nama depan nama belakang anda \n"
     ]
    }
   ],
   "source": [
    "nama_depan = \"nama depan\"\n",
    "nama_belakang = 'nama belakang anda '\n",
    "\n",
    "print (nama_depan + ' ' + nama_belakang)"
   ]
  },
  {
   "cell_type": "code",
   "execution_count": 27,
   "metadata": {},
   "outputs": [
    {
     "name": "stdout",
     "output_type": "stream",
     "text": [
      "nama depannama belakang anda 17\n"
     ]
    }
   ],
   "source": [
    "usia = 17\n",
    "\n",
    "print (nama_depan + nama_belakang + str(usia))"
   ]
  },
  {
   "cell_type": "markdown",
   "metadata": {},
   "source": [
    "# Struktur Kontrol"
   ]
  },
  {
   "cell_type": "markdown",
   "metadata": {},
   "source": [
    "- if ... else\n",
    "\n",
    "If ... Else merupakan struktur kondisi yang akan memberikan hasil sesuai dengan parameter yang diberikan oleh user. namun if else juga memberikan nilai default kepada user ketika semua kondisi tidak terpenuhi."
   ]
  },
  {
   "cell_type": "code",
   "execution_count": 45,
   "metadata": {},
   "outputs": [
    {
     "name": "stdout",
     "output_type": "stream",
     "text": [
      "Bukan Integer\n"
     ]
    }
   ],
   "source": [
    "variabel_1 = 33\n",
    "if type(variabel_1) == 'int':\n",
    "    print ('Integer')\n",
    "else:\n",
    "    print ('Bukan Integer')"
   ]
  },
  {
   "cell_type": "code",
   "execution_count": 2,
   "metadata": {},
   "outputs": [],
   "source": [
    "nilai = 101\n",
    "if nilai == 100:\n",
    "    print (\"A\")\n",
    "elif nilai < 100:\n",
    "    print (\"B\")"
   ]
  },
  {
   "cell_type": "code",
   "execution_count": 1,
   "metadata": {},
   "outputs": [
    {
     "name": "stdout",
     "output_type": "stream",
     "text": [
      "Nilai Tidak Valid\n"
     ]
    }
   ],
   "source": [
    "nilai = 112\n",
    "if nilai == 100:\n",
    "    print (\"A\")\n",
    "elif nilai < 100:\n",
    "    print (\"B\")\n",
    "else:\n",
    "    print ('Nilai Tidak Valid')"
   ]
  },
  {
   "cell_type": "markdown",
   "metadata": {},
   "source": [
    "# Loop / Perulangan"
   ]
  },
  {
   "cell_type": "markdown",
   "metadata": {},
   "source": [
    "- while\n",
    "Perulangan while menggunakan validasi kondisi terhadap suatu nilai untuk melakukan perulangan. Jika kondisi yang ditentukan tidak tercapai, maka proses loop akan terus berjalan."
   ]
  },
  {
   "cell_type": "code",
   "execution_count": 48,
   "metadata": {},
   "outputs": [
    {
     "name": "stdout",
     "output_type": "stream",
     "text": [
      "1\n",
      "2\n",
      "3\n",
      "4\n",
      "5\n",
      "6\n",
      "7\n",
      "8\n",
      "9\n",
      "10\n",
      "11\n",
      "12\n",
      "13\n",
      "14\n",
      "15\n",
      "16\n",
      "17\n",
      "18\n",
      "19\n",
      "20\n",
      "21\n",
      "22\n",
      "23\n",
      "24\n",
      "25\n",
      "26\n",
      "27\n",
      "28\n",
      "29\n",
      "30\n"
     ]
    }
   ],
   "source": [
    "# while logika_kondisi:\n",
    "#   ...\n",
    "#   ...\n",
    "nilai = 0\n",
    "while nilai < 30:\n",
    "    nilai = nilai + 1\n",
    "    print (nilai)"
   ]
  },
  {
   "cell_type": "markdown",
   "metadata": {},
   "source": [
    "- for\n",
    "Perulangan for menggunakan parameter angka ataupun list data didalam melakukan perulangan. terdapat range nilai sebagai batasan proses loop."
   ]
  },
  {
   "cell_type": "code",
   "execution_count": 49,
   "metadata": {},
   "outputs": [
    {
     "name": "stdout",
     "output_type": "stream",
     "text": [
      "0\n",
      "1\n",
      "2\n",
      "3\n",
      "4\n",
      "5\n",
      "6\n",
      "7\n",
      "8\n",
      "9\n",
      "10\n"
     ]
    }
   ],
   "source": [
    "# for variabel_1 in variabel_2:\n",
    "#   ....\n",
    "#   ....\n",
    "\n",
    "for i in range(0, 11):\n",
    "    print (i)"
   ]
  },
  {
   "cell_type": "markdown",
   "metadata": {},
   "source": [
    "# Pendefenisian fungsi\n",
    "\n",
    "Peran fungsi didalam pemrograman sanagat besar. Fungsi dapat menyederhanakan proses penulisan script yang berulang-ulang sehingga dapat digunakan kembali ketika dibutuhkan."
   ]
  },
  {
   "cell_type": "code",
   "execution_count": 57,
   "metadata": {},
   "outputs": [
    {
     "data": {
      "text/plain": [
       "'ini string saya 10'"
      ]
     },
     "execution_count": 57,
     "metadata": {},
     "output_type": "execute_result"
    }
   ],
   "source": [
    "# def NamaFungsi():\n",
    "#   ...\n",
    "#   return ...\n",
    "\n",
    "def FungsiString(ab):\n",
    "    return \"ini string saya \" + str(ab)\n",
    "\n",
    "variabel_1 = FungsiString(10)\n",
    "variabel_1"
   ]
  },
  {
   "cell_type": "code",
   "execution_count": 58,
   "metadata": {},
   "outputs": [
    {
     "name": "stdout",
     "output_type": "stream",
     "text": [
      "ini string saya 10\n"
     ]
    }
   ],
   "source": [
    "print (variabel_1)"
   ]
  },
  {
   "cell_type": "markdown",
   "metadata": {},
   "source": [
    "# Tugas\n",
    "\n",
    "1. Buat fungsi untuk menghitung luas persegi, dengan nama fungsi HitungLuasPersegi dengan parameter input p,l,t.\n",
    "2. Buat fungsi untuk menampilkan string \"Senang belajar python\" sebanyak jumlan nilai parameter yang diberikan. Dengan nama fungsi LoopString, dan nama input parameter n.\n",
    "3. Buat fungsi untuk memfilter input nilai, jika nilai yang diberikan 90 maka cetak informasi \"Anda Lulus\" jika nilai yang diberikan dibawah 70 maka cetak informasi \"Anda Harus Mengulang\". Dengan nama fungsi ValidasiNilai dengan nama input parameter nilai."
   ]
  },
  {
   "cell_type": "code",
   "execution_count": 3,
   "metadata": {},
   "outputs": [
    {
     "name": "stdout",
     "output_type": "stream",
     "text": [
      "5200\n"
     ]
    }
   ],
   "source": [
    "#Jawaban no 1\n",
    "def HitungLuasPersegi(p,l,t):\n",
    "    rumus = 2 * (p*l + p*t + l*t)\n",
    "    print(rumus)\n",
    "HitungLuasPersegi(p = 20,l = 30,t = 40)"
   ]
  },
  {
   "cell_type": "code",
   "execution_count": 51,
   "metadata": {},
   "outputs": [
    {
     "name": "stdout",
     "output_type": "stream",
     "text": [
      "Senang belajar python\n",
      "Senang belajar python\n",
      "Senang belajar python\n",
      "Senang belajar python\n",
      "Senang belajar python\n",
      "Senang belajar python\n",
      "Senang belajar python\n",
      "Senang belajar python\n",
      "Senang belajar python\n",
      "Senang belajar python\n"
     ]
    }
   ],
   "source": [
    "#Jawaban Soal 2\n",
    "def LoopString(n):\n",
    "    for l in range(n):\n",
    "        print(\"Senang belajar python\")\n",
    "LoopString(10)"
   ]
  },
  {
   "cell_type": "code",
   "execution_count": 49,
   "metadata": {},
   "outputs": [
    {
     "name": "stdout",
     "output_type": "stream",
     "text": [
      "Anda lulus\n"
     ]
    }
   ],
   "source": [
    "#Jawaban Soal 3\n",
    "def ValidasiNilai(nilai):   \n",
    "    if nilai >= 70:\n",
    "        print(\"Anda lulus\")\n",
    "    elif nilai < 70:\n",
    "        print(\"Anda Harus Mengulang\")\n",
    "    else:\n",
    "        print(\"Error\")\n",
    "ValidasiNilai(70)"
   ]
  },
  {
   "cell_type": "code",
   "execution_count": 30,
   "metadata": {},
   "outputs": [
    {
     "name": "stdout",
     "output_type": "stream",
     "text": [
      "ini string saya coba\n",
      "4\n"
     ]
    }
   ],
   "source": [
    "def fungsi(belajar):\n",
    "     print (\"ini string saya \" + belajar)\n",
    "fungsi(\"coba\")"
   ]
  },
  {
   "cell_type": "code",
   "execution_count": 31,
   "metadata": {},
   "outputs": [
    {
     "name": "stdout",
     "output_type": "stream",
     "text": [
      "25\n"
     ]
    }
   ],
   "source": [
    "def pangkat_dua(angka):\n",
    "  return angka ** 2\n",
    "naga = pangkat_dua(5)\n",
    "print(naga)\n"
   ]
  },
  {
   "cell_type": "code",
   "execution_count": null,
   "metadata": {},
   "outputs": [],
   "source": []
  }
 ],
 "metadata": {
  "kernelspec": {
   "display_name": "Python 3",
   "language": "python",
   "name": "python3"
  },
  "language_info": {
   "codemirror_mode": {
    "name": "ipython",
    "version": 3
   },
   "file_extension": ".py",
   "mimetype": "text/x-python",
   "name": "python",
   "nbconvert_exporter": "python",
   "pygments_lexer": "ipython3",
   "version": "3.7.0"
  }
 },
 "nbformat": 4,
 "nbformat_minor": 2
}
