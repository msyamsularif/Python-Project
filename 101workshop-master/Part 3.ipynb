{
 "cells": [
  {
   "cell_type": "markdown",
   "metadata": {},
   "source": [
    "# User Input\n",
    "\n",
    "User input memungkinkan python script untuk dapat menerima inputan dari user. \n",
    "bentuk umum:\n",
    "- input('string information')\n",
    "- raw_input('string information') # hanya terdapat pada python versi 2.x"
   ]
  },
  {
   "cell_type": "code",
   "execution_count": 1,
   "metadata": {},
   "outputs": [
    {
     "name": "stdout",
     "output_type": "stream",
     "text": [
      "Masukkan Nama Anda: Muhammad Syamsul Arif\n",
      "Masukkan Usia Anda: 20\n",
      "Nama anda : Muhammad Syamsul Arif dan Usia anda : 20\n"
     ]
    }
   ],
   "source": [
    "# contoh penggunaan input\n",
    "nama = input('Masukkan Nama Anda: ')\n",
    "umur = input('Masukkan Usia Anda: ')\n",
    "print(\"Nama anda : {} dan Usia anda : {}\".format(nama, umur))"
   ]
  },
  {
   "cell_type": "code",
   "execution_count": null,
   "metadata": {},
   "outputs": [],
   "source": []
  },
  {
   "cell_type": "code",
   "execution_count": 19,
   "metadata": {},
   "outputs": [
    {
     "name": "stdout",
     "output_type": "stream",
     "text": [
      "Masukkan Nama Peserta Workshop : a\n",
      "Masukkan Nama Peserta Workshop : b\n",
      "Masukkan Nama Peserta Workshop : c\n",
      "Masukkan Nama Peserta Workshop : d\n",
      "Masukkan Nama Peserta Workshop : e\n",
      "Masukkan Nama Peserta Workshop : f\n",
      "Masukkan Nama Peserta Workshop : g\n",
      "Masukkan Nama Peserta Workshop : h\n",
      "Masukkan Nama Peserta Workshop : i\n",
      "Masukkan Nama Peserta Workshop : j\n",
      "['a', 'b', 'c', 'd', 'e', 'f', 'g', 'h', 'i', 'j']\n"
     ]
    }
   ],
   "source": [
    "# contoh penggunaan input, loop dan data struktur list\n",
    "count_num = 10\n",
    "list_peserta = []\n",
    "for x in range(count_num):\n",
    "    nama = input('Masukkan Nama Peserta Workshop : ')\n",
    "    list_peserta.append(nama)\n",
    "print(list_peserta)"
   ]
  },
  {
   "cell_type": "code",
   "execution_count": 17,
   "metadata": {},
   "outputs": [
    {
     "name": "stdout",
     "output_type": "stream",
     "text": [
      "Masukkan Nama Peserta : Muhammad Syamsul Arif\n",
      "Masukkan Semester Peserta : 4\n"
     ]
    }
   ],
   "source": [
    "# contoh penggunaan input dan data struktur dictionary\n",
    "nama = input('Masukkan Nama Peserta : ')\n",
    "smt = input('Masukkan Semester Peserta : ')\n",
    "\n",
    "data_peserta = {\n",
    "    'nama': nama,\n",
    "    'smt': smt\n",
    "}"
   ]
  },
  {
   "cell_type": "code",
   "execution_count": 2,
   "metadata": {},
   "outputs": [
    {
     "name": "stdout",
     "output_type": "stream",
     "text": [
      "Masukkan Nama Peserta : Muhammad Syamsul Arif\n",
      "Masukkan Semester Peserta : 4\n"
     ]
    }
   ],
   "source": [
    "# contoh fungsi input dimasukkan pada dictionary\n",
    "data_peserta = {\n",
    "    'nama': input('Masukkan Nama Peserta : '),\n",
    "    'smt': input('Masukkan Semester Peserta : ')\n",
    "}"
   ]
  },
  {
   "cell_type": "code",
   "execution_count": 3,
   "metadata": {},
   "outputs": [
    {
     "name": "stdout",
     "output_type": "stream",
     "text": [
      "Masukkan Nama Peserta : Muhammad Syamsul Arif\n",
      "Nama Peserta: Muhammad Syamsul Arif\n"
     ]
    }
   ],
   "source": [
    "# contoh fungsi input dengan struktur control (if ... else)\n",
    "nama = input('Masukkan Nama Peserta : ')\n",
    "if(nama):\n",
    "    print('Nama Peserta: {}'.format(nama))\n",
    "else:\n",
    "    print('Nama Tidak Boleh Kosong !!')"
   ]
  },
  {
   "cell_type": "code",
   "execution_count": 6,
   "metadata": {},
   "outputs": [
    {
     "name": "stdout",
     "output_type": "stream",
     "text": [
      "Masukkan usia peserta : 20\n"
     ]
    }
   ],
   "source": [
    "usia = input('Masukkan usia peserta : ')\n",
    "if(type(int(usia)) != int):\n",
    "    print('Usia Harus Angka')"
   ]
  },
  {
   "cell_type": "code",
   "execution_count": 10,
   "metadata": {},
   "outputs": [
    {
     "name": "stdout",
     "output_type": "stream",
     "text": [
      "Masukkan usia peserta : 20\n",
      "20\n"
     ]
    }
   ],
   "source": [
    "usia = input('Masukkan usia peserta : ')\n",
    "if(usia.isdigit()):\n",
    "    print(usia)\n",
    "else:\n",
    "    print('Inputan anda salah, usia harus number')"
   ]
  },
  {
   "cell_type": "markdown",
   "metadata": {},
   "source": [
    "# Ekspresi Logika\n",
    "\n",
    "Ekspresi logika memiliki keluaran dengan tipe data Boolean (TRUE / FALSE)\n",
    "selain dapat membandingkan nilai angka, ekspresi logika juga dapat membandingkan string atau digunakan pada loop.\n",
    "\n",
    "- Operator Logika\n",
    "- Operator and\n",
    "- Operator or\n",
    "- Operator not"
   ]
  },
  {
   "cell_type": "markdown",
   "metadata": {},
   "source": [
    "- Operator Logika\n",
    "1. == (sama dengan / equal)\n",
    "2. != (tidak sama dengan)\n",
    "3. \"> (lebih kecil)\"\n",
    "4. < (lebih besar)\n",
    "5. \">= (lebih besar sama dengan)\"\n",
    "6. <= (lebih kecil sama dengan)\n",
    "\n",
    "Contoh : "
   ]
  },
  {
   "cell_type": "code",
   "execution_count": 13,
   "metadata": {},
   "outputs": [
    {
     "data": {
      "text/plain": [
       "False"
      ]
     },
     "execution_count": 13,
     "metadata": {},
     "output_type": "execute_result"
    }
   ],
   "source": [
    "# Klik tombol Run untuk menjalankan sintaks ini\n",
    "\n",
    "# 1 == 1\n",
    "# 1 == 3\n",
    "\n",
    "\"Aku Belajar Python\" == \"aku belajar python\" # membandingkan dua string"
   ]
  },
  {
   "cell_type": "code",
   "execution_count": 14,
   "metadata": {},
   "outputs": [
    {
     "data": {
      "text/plain": [
       "True"
      ]
     },
     "execution_count": 14,
     "metadata": {},
     "output_type": "execute_result"
    }
   ],
   "source": [
    "# Klik tombol Run untuk menjalankan sintaks ini\n",
    "1 != 2\n",
    "# 1 != 1"
   ]
  },
  {
   "cell_type": "code",
   "execution_count": 15,
   "metadata": {},
   "outputs": [
    {
     "data": {
      "text/plain": [
       "False"
      ]
     },
     "execution_count": 15,
     "metadata": {},
     "output_type": "execute_result"
    }
   ],
   "source": [
    "3 < 2 # membandingkan dua nilai"
   ]
  },
  {
   "cell_type": "code",
   "execution_count": 16,
   "metadata": {},
   "outputs": [
    {
     "data": {
      "text/plain": [
       "True"
      ]
     },
     "execution_count": 16,
     "metadata": {},
     "output_type": "execute_result"
    }
   ],
   "source": [
    "5 > 3 # membandingkan dua nilai"
   ]
  },
  {
   "cell_type": "code",
   "execution_count": 17,
   "metadata": {},
   "outputs": [
    {
     "data": {
      "text/plain": [
       "True"
      ]
     },
     "execution_count": 17,
     "metadata": {},
     "output_type": "execute_result"
    }
   ],
   "source": [
    "5 >= 5 # membandingkan dua nilai"
   ]
  },
  {
   "cell_type": "code",
   "execution_count": 18,
   "metadata": {},
   "outputs": [
    {
     "data": {
      "text/plain": [
       "True"
      ]
     },
     "execution_count": 18,
     "metadata": {},
     "output_type": "execute_result"
    }
   ],
   "source": [
    "6 <= 7 # membandingkan dua nilai"
   ]
  },
  {
   "cell_type": "markdown",
   "metadata": {},
   "source": [
    "Penggunaan operator logika juga dapat dikombinasikan dengan struktur controll IF ... ELSE maupun didalam LOOP for loop / while"
   ]
  },
  {
   "cell_type": "code",
   "execution_count": 19,
   "metadata": {},
   "outputs": [
    {
     "name": "stdout",
     "output_type": "stream",
     "text": [
      "Lulus\n"
     ]
    }
   ],
   "source": [
    "nilai = 75\n",
    "if (nilai < 70):\n",
    "    print ('Tidak Lulus')\n",
    "else:\n",
    "    print ('Lulus')"
   ]
  },
  {
   "cell_type": "code",
   "execution_count": 20,
   "metadata": {},
   "outputs": [
    {
     "name": "stdout",
     "output_type": "stream",
     "text": [
      "Selamat Datang Unkris Python\n"
     ]
    }
   ],
   "source": [
    "username = \"unkrisPython\"\n",
    "if (username != \"unkrisPython\"):\n",
    "    print('Username Salan')\n",
    "else:\n",
    "    print('Selamat Datang Unkris Python')"
   ]
  },
  {
   "cell_type": "code",
   "execution_count": 4,
   "metadata": {},
   "outputs": [
    {
     "name": "stdout",
     "output_type": "stream",
     "text": [
      "1\n",
      "2\n",
      "3\n",
      "4\n",
      "5\n",
      "6\n",
      "7\n",
      "8\n",
      "9\n",
      "10\n"
     ]
    }
   ],
   "source": [
    "# implementasi pada while\n",
    "nilai = 1\n",
    "while (nilai < 11):\n",
    "    print (nilai)  \n",
    "    nilai += 1"
   ]
  },
  {
   "cell_type": "code",
   "execution_count": 5,
   "metadata": {},
   "outputs": [
    {
     "ename": "SyntaxError",
     "evalue": "invalid syntax (<ipython-input-5-86ee0c1f25b9>, line 3)",
     "output_type": "error",
     "traceback": [
      "\u001b[1;36m  File \u001b[1;32m\"<ipython-input-5-86ee0c1f25b9>\"\u001b[1;36m, line \u001b[1;32m3\u001b[0m\n\u001b[1;33m    Contoh :\u001b[0m\n\u001b[1;37m            ^\u001b[0m\n\u001b[1;31mSyntaxError\u001b[0m\u001b[1;31m:\u001b[0m invalid syntax\n"
     ]
    }
   ],
   "source": [
    "# Operator or\n",
    "\n",
    "Contoh :\n",
    "#True or True\n",
    "#True or False\n",
    "#False or False\n",
    "#False or True"
   ]
  },
  {
   "cell_type": "code",
   "execution_count": 6,
   "metadata": {},
   "outputs": [
    {
     "data": {
      "text/plain": [
       "True"
      ]
     },
     "execution_count": 6,
     "metadata": {},
     "output_type": "execute_result"
    }
   ],
   "source": [
    "# ganti salah satu sisi mengikuti \n",
    "# contoh diatas satu persatu kemudian klik tombol Run\n",
    "True or True"
   ]
  },
  {
   "cell_type": "code",
   "execution_count": null,
   "metadata": {},
   "outputs": [],
   "source": [
    "# Operator and\n",
    "#True and True\n",
    "#True and False\n",
    "#False and True\n",
    "#False and False"
   ]
  },
  {
   "cell_type": "code",
   "execution_count": 7,
   "metadata": {},
   "outputs": [
    {
     "data": {
      "text/plain": [
       "False"
      ]
     },
     "execution_count": 7,
     "metadata": {},
     "output_type": "execute_result"
    }
   ],
   "source": [
    "# ganti salah satu sisi mengikuti \n",
    "# contoh diatas satu persatu kemudian klik tombol Run\n",
    "True and False"
   ]
  },
  {
   "cell_type": "code",
   "execution_count": null,
   "metadata": {},
   "outputs": [],
   "source": [
    "# Operato not\n",
    "# not True\n",
    "# not False"
   ]
  },
  {
   "cell_type": "code",
   "execution_count": 8,
   "metadata": {},
   "outputs": [
    {
     "data": {
      "text/plain": [
       "False"
      ]
     },
     "execution_count": 8,
     "metadata": {},
     "output_type": "execute_result"
    }
   ],
   "source": [
    "# ganti salah satu sisi mengikuti \n",
    "# contoh diatas satu persatu kemudian klik tombol Run\n",
    "not True"
   ]
  },
  {
   "cell_type": "code",
   "execution_count": 9,
   "metadata": {},
   "outputs": [
    {
     "data": {
      "text/plain": [
       "False"
      ]
     },
     "execution_count": 9,
     "metadata": {},
     "output_type": "execute_result"
    }
   ],
   "source": [
    "# Operator and or not dapat dikombinasikan\n",
    "# Contoh :\n",
    "not True or False"
   ]
  },
  {
   "cell_type": "code",
   "execution_count": 15,
   "metadata": {},
   "outputs": [
    {
     "name": "stdout",
     "output_type": "stream",
     "text": [
      "Welcome - sindoro -\n"
     ]
    }
   ],
   "source": [
    "# dapat juga digunakan untuk untuk membandingkan \n",
    "# isi list dengan input user.\n",
    "list_username = ['panda', 'sindoro', 'merbabu']\n",
    "#input_user = 'semeru'\n",
    "input_user = 'sindoro'\n",
    "\n",
    "if input_user not in list_username:\n",
    "    print('Username Tidak Dikenali')\n",
    "else:\n",
    "    print('Welcome - {} -'.format(input_user))"
   ]
  }
 ],
 "metadata": {
  "kernelspec": {
   "display_name": "Python 3",
   "language": "python",
   "name": "python3"
  },
  "language_info": {
   "codemirror_mode": {
    "name": "ipython",
    "version": 3
   },
   "file_extension": ".py",
   "mimetype": "text/x-python",
   "name": "python",
   "nbconvert_exporter": "python",
   "pygments_lexer": "ipython3",
   "version": "3.7.0"
  }
 },
 "nbformat": 4,
 "nbformat_minor": 2
}
